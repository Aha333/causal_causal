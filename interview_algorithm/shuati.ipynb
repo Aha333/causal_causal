{
 "cells": [
  {
   "cell_type": "code",
   "execution_count": 35,
   "id": "d7f03e9e-f218-44df-aecf-3aac47eb29ad",
   "metadata": {},
   "outputs": [
    {
     "name": "stdout",
     "output_type": "stream",
     "text": [
      "0 2\n",
      "1 3\n",
      "2 1\n",
      "[2, 2, 3]\n"
     ]
    }
   ],
   "source": [
    "# 常见\n",
    "for  ind, v in enumerate([2,3,1]):\n",
    "    print(ind, v)\n",
    "\n",
    "memorized = set()\n",
    "memorized.add(3)\n",
    "\n",
    "\n",
    "b = sorted([2,3,2])\n",
    "print(b)"
   ]
  },
  {
   "cell_type": "code",
   "execution_count": null,
   "id": "e2858a91-329c-4fe5-b4ba-8755b1fe628e",
   "metadata": {},
   "outputs": [],
   "source": []
  },
  {
   "cell_type": "code",
   "execution_count": 1,
   "id": "382b82b4-47c6-4020-bb15-75dc8d711938",
   "metadata": {},
   "outputs": [],
   "source": [
    "# 给定一个整数数组 nums 和一个目标值 target，在数组中找到两个数，它们的和为目标值，并返回它们的数组下标。\n",
    "1. sort; two pointer\n",
    "2. hashmap"
   ]
  },
  {
   "cell_type": "code",
   "execution_count": null,
   "id": "bdd01ec7-38ea-4610-8c7e-041b957ae3e3",
   "metadata": {},
   "outputs": [],
   "source": [
    "def find_two_with_target(nums, target):\n",
    "    for i in nums:\n",
    "        for j in nums:\n",
    "            if i+j = target:\n",
    "                return i, j\n",
    "            "
   ]
  },
  {
   "cell_type": "code",
   "execution_count": 23,
   "id": "1b9d812d-dcf0-4c44-a34f-8a3eafcb7d77",
   "metadata": {},
   "outputs": [
    {
     "data": {
      "text/plain": [
       "{3, 10}"
      ]
     },
     "execution_count": 23,
     "metadata": {},
     "output_type": "execute_result"
    }
   ],
   "source": [
    "memorized = set()\n",
    "memorized.add(3)\n",
    "memorized.add(10)\n",
    "memorized"
   ]
  },
  {
   "cell_type": "code",
   "execution_count": 31,
   "id": "01f62213-f779-491a-9e83-395c13fe449f",
   "metadata": {},
   "outputs": [
    {
     "data": {
      "text/plain": [
       "(2, 3)"
      ]
     },
     "execution_count": 31,
     "metadata": {},
     "output_type": "execute_result"
    }
   ],
   "source": [
    "def find_two_with_target(nums, target):\n",
    "    \n",
    "    # another way is to take memory. If we remember what has seen before\n",
    "    memorized = set()\n",
    "    \n",
    "    for n in nums:\n",
    "        if target-n in memorized:\n",
    "            return n, target-n\n",
    "        memorized.add(n)\n",
    "\n",
    "find_two_with_target([3,1,2,4,1],5)\n"
   ]
  },
  {
   "cell_type": "code",
   "execution_count": 27,
   "id": "42a06b76-0f7e-40d0-ab5b-5adac3cc243f",
   "metadata": {},
   "outputs": [
    {
     "data": {
      "text/plain": [
       "(1, 4)"
      ]
     },
     "execution_count": 27,
     "metadata": {},
     "output_type": "execute_result"
    }
   ],
   "source": [
    "def find_two_with_target(nums, target):\n",
    "    # a + b = target \n",
    "    nums = sorted(nums)\n",
    "    i = 0\n",
    "    j = len(nums)-1\n",
    "    while i<j:\n",
    "        if nums[i]+nums[j]>target:\n",
    "            j = j-1\n",
    "        elif nums[i]+nums[j]<target:\n",
    "            i = i+1\n",
    "        else:\n",
    "            return nums[i],nums[j]\n",
    "    return -1\n",
    "find_two_with_target([3,1,2,4,1],5)\n"
   ]
  },
  {
   "cell_type": "code",
   "execution_count": null,
   "id": "58e0f875-fba3-4f17-8b76-d2687608ebf8",
   "metadata": {},
   "outputs": [],
   "source": [
    "# three sum 的题一半就是sort了\n"
   ]
  },
  {
   "cell_type": "code",
   "execution_count": null,
   "id": "8c3966ab-8639-4ee7-997e-8a8687cb5245",
   "metadata": {},
   "outputs": [],
   "source": [
    "s = \"hello\"\n",
    "string 反转感觉 -》 如何表达string呢？--> 加入是string 操作， 也必须要开辟一个list呀. 或者用一个双向的list， 比如stack？\n",
    "for i in s:\n",
    "    "
   ]
  },
  {
   "cell_type": "code",
   "execution_count": 33,
   "id": "ea1a001c-2909-4a41-85f5-21cac92a92bf",
   "metadata": {},
   "outputs": [
    {
     "data": {
      "text/plain": [
       "[2, 3]"
      ]
     },
     "execution_count": 33,
     "metadata": {},
     "output_type": "execute_result"
    }
   ],
   "source": [
    "l = []\n",
    "The most common one is actually, stack"
   ]
  },
  {
   "cell_type": "code",
   "execution_count": 37,
   "id": "7e8580fc-0e8d-4c79-9bc1-35c10c3cb42f",
   "metadata": {},
   "outputs": [
    {
     "data": {
      "text/plain": [
       "'dcba'"
      ]
     },
     "execution_count": 37,
     "metadata": {},
     "output_type": "execute_result"
    }
   ],
   "source": [
    "s = 'abcd'\n",
    "s[::-1]"
   ]
  },
  {
   "cell_type": "code",
   "execution_count": 43,
   "id": "2e7dfa57-5461-47ee-a95a-76a6078d6e0d",
   "metadata": {},
   "outputs": [
    {
     "data": {
      "text/plain": [
       "'dcba'"
      ]
     },
     "execution_count": 43,
     "metadata": {},
     "output_type": "execute_result"
    }
   ],
   "source": [
    "a = []\n",
    "reverse_s = \"\"\n",
    "for i in s:\n",
    "    a.append(i)\n",
    "while a:\n",
    "    reverse_s += a.pop()\n",
    "reverse_s"
   ]
  },
  {
   "cell_type": "code",
   "execution_count": 44,
   "id": "70b7a43a-23c9-4628-9153-f1c62cb20074",
   "metadata": {},
   "outputs": [],
   "source": [
    "s = \"()[]{}\""
   ]
  },
  {
   "cell_type": "code",
   "execution_count": 46,
   "id": "55ded6c4-7344-4174-8bd4-40b4fb2482bf",
   "metadata": {},
   "outputs": [],
   "source": [
    "nums1 = [1, 2, 3, 0, 0, 0]\n",
    "m = 3\n",
    "nums2 = [2, 5, 6]\n",
    "n = 3\n",
    "# 输出: [1, 2, 2, 3, 5, 6]\n"
   ]
  },
  {
   "cell_type": "code",
   "execution_count": 5,
   "id": "5bd0bd3c-26a3-410e-8703-572d96ff97ef",
   "metadata": {},
   "outputs": [
    {
     "data": {
      "text/plain": [
       "[1, 2, 3, 3, 4, 4, 4, 4, 4, 4, 4, 10]"
      ]
     },
     "execution_count": 5,
     "metadata": {},
     "output_type": "execute_result"
    }
   ],
   "source": [
    "def combine(nums1, nums2):\n",
    "    \"\"\"\n",
    "    Given two ranked list, outupt combined list (ranked)\n",
    "    \"\"\"\n",
    "    combine = []\n",
    "    k = i = j = 0\n",
    "    while (i<len(nums1)) and (j<len(nums2)):\n",
    "        if nums1[i]<nums2[j]:\n",
    "            combine.append(nums1[i])\n",
    "            i = i + 1 \n",
    "        else:\n",
    "            combine.append(nums2[j])\n",
    "            j = j + 1\n",
    "    while (i<len(nums1)):\n",
    "        combine.append(nums1[i])\n",
    "        i = i + 1 \n",
    "    while (j<len(nums2)):\n",
    "        combine.append(nums2[j])\n",
    "        j = j + 1 \n",
    "    return combine\n",
    "combine([1,3,4,4,4,4,4,4], [2,3,4,10])"
   ]
  },
  {
   "cell_type": "code",
   "execution_count": null,
   "id": "6d9410cf-bb8f-4bc7-b10c-12723a5c791d",
   "metadata": {},
   "outputs": [],
   "source": [
    "# reverse integer:\n",
    "12345\n",
    "54321"
   ]
  },
  {
   "cell_type": "code",
   "execution_count": 7,
   "id": "2448fc29-2885-4d37-b8cb-1e4ade2493eb",
   "metadata": {},
   "outputs": [
    {
     "data": {
      "text/plain": [
       "3"
      ]
     },
     "execution_count": 7,
     "metadata": {},
     "output_type": "execute_result"
    }
   ],
   "source": [
    "123%10"
   ]
  },
  {
   "cell_type": "code",
   "execution_count": 13,
   "id": "1ac12651-9baf-4d4f-a2c7-866a4a90af46",
   "metadata": {},
   "outputs": [
    {
     "name": "stdout",
     "output_type": "stream",
     "text": [
      "3 12.0\n",
      "2.0 1.0\n",
      "1.0 0.0\n"
     ]
    },
    {
     "data": {
      "text/plain": [
       "321.0"
      ]
     },
     "execution_count": 13,
     "metadata": {},
     "output_type": "execute_result"
    }
   ],
   "source": [
    "n=123\n",
    "n=abs(n)\n",
    "ret = 0\n",
    "while n>0:\n",
    "    i = n%10\n",
    "    ret = ret*10+i\n",
    "    n=(n-i)/10\n",
    "    print(i,n)\n",
    "    \n",
    "ret\n"
   ]
  },
  {
   "cell_type": "code",
   "execution_count": null,
   "id": "21eddc27-6cd6-45ae-b93c-bf475760a7e3",
   "metadata": {},
   "outputs": [],
   "source": [
    "#lengthOfLongestSubstring(\"abcabcbb\")"
   ]
  },
  {
   "cell_type": "code",
   "execution_count": 19,
   "id": "2800eedb-7d79-4027-8e73-94b0d8a8c060",
   "metadata": {},
   "outputs": [
    {
     "data": {
      "text/plain": [
       "3"
      ]
     },
     "execution_count": 19,
     "metadata": {},
     "output_type": "execute_result"
    }
   ],
   "source": [
    "def lengthOfLongestSubstring(s):\n",
    "    i,j =0,0\n",
    "    substr_chars = set()\n",
    "    substr_chars.add(s[0])\n",
    "    max_len = 1\n",
    "    while j+1<len(s):\n",
    "        while s[j+1] in substr_chars: # 挪动之前检查一下\n",
    "            substr_chars.remove(s[i]) # move i, and refresh stats\n",
    "            i=i+1\n",
    "        j=j+1 # move j, and refresh stats\n",
    "        substr_chars.add(s[j]) \n",
    "        max_len = max(max_len,len(substr_chars))\n",
    "    return max_len\n",
    "lengthOfLongestSubstring('abcabcbb')     "
   ]
  },
  {
   "cell_type": "code",
   "execution_count": 20,
   "id": "a22cc2f2-2f59-40d2-91cb-3ed252876d66",
   "metadata": {},
   "outputs": [],
   "source": [
    "# Median of Two Sorted Arrays\n"
   ]
  },
  {
   "cell_type": "code",
   "execution_count": 22,
   "id": "bdf6e299-3c27-4907-8543-bd382f668da1",
   "metadata": {},
   "outputs": [
    {
     "name": "stdout",
     "output_type": "stream",
     "text": [
      "Result Linked List:\n",
      "7 -> 0 -> 8 -> 3\n"
     ]
    }
   ],
   "source": [
    "class ListNode:\n",
    "    def __init__(self, val=0, next=None):\n",
    "        self.val = val\n",
    "        self.next = next\n",
    "\n",
    "def addTwoNumbers(l1: ListNode, l2: ListNode) -> ListNode:\n",
    "    # 创建一个虚拟头节点，方便操作\n",
    "    dummy = ListNode(0)\n",
    "    current = dummy\n",
    "    carry = 0\n",
    "    \n",
    "    while l1 or l2 or carry:\n",
    "        # 获取当前位的值，如果链表已经遍历完，值为0\n",
    "        val1 = l1.val if l1 else 0\n",
    "        val2 = l2.val if l2 else 0\n",
    "        \n",
    "        # 计算当前位的和以及进位\n",
    "        total = val1 + val2 + carry\n",
    "        carry = total // 10  # 进位\n",
    "        current.next = ListNode(total % 10)  # 当前位\n",
    "        current = current.next\n",
    "        \n",
    "        # 向下移动l1和l2的指针\n",
    "        if l1:\n",
    "            l1 = l1.next\n",
    "        if l2:\n",
    "            l2 = l2.next\n",
    "    \n",
    "    return dummy.next  # 返回虚拟头节点之后的链表部分\n",
    "    \n",
    "# 创建链表的辅助函数\n",
    "def create_linked_list(values):\n",
    "    dummy = ListNode(0)\n",
    "    current = dummy\n",
    "    for val in values:\n",
    "        current.next = ListNode(val)\n",
    "        current = current.next\n",
    "    return dummy.next\n",
    "\n",
    "# 打印链表的辅助函数\n",
    "def print_linked_list(node):\n",
    "    result = []\n",
    "    while node:\n",
    "        result.append(str(node.val))\n",
    "        node = node.next\n",
    "    print(\" -> \".join(result))\n",
    "\n",
    "# 测试代码\n",
    "if __name__ == \"__main__\":\n",
    "    # 输入链表\n",
    "    l1 = create_linked_list([2, 4, 3, 3])\n",
    "    l2 = create_linked_list([5, 6, 4])\n",
    "    \n",
    "    # 执行相加操作\n",
    "    result = addTwoNumbers(l1, l2)\n",
    "    \n",
    "    # 打印结果链表\n",
    "    print(\"Result Linked List:\")\n",
    "    print_linked_list(result)"
   ]
  },
  {
   "cell_type": "code",
   "execution_count": 23,
   "id": "0ed79f53-bb7f-4257-975b-141114977c94",
   "metadata": {},
   "outputs": [],
   "source": [
    "#连续子数组的最大和\n",
    "#输入：nums = [-2, 1, -3, 4, -1, 2, 1, -5, 4]\n",
    "#输出：6\n",
    "#解释：连续子数组 [4, -1, 2, 1] 的和最大。\n"
   ]
  },
  {
   "cell_type": "code",
   "execution_count": 24,
   "id": "3bdd4221-54c2-4b16-9d0b-ab99519cb797",
   "metadata": {},
   "outputs": [
    {
     "ename": "SyntaxError",
     "evalue": "incomplete input (2570040020.py, line 1)",
     "output_type": "error",
     "traceback": [
      "\u001b[0;36m  Cell \u001b[0;32mIn[24], line 1\u001b[0;36m\u001b[0m\n\u001b[0;31m    def max_sub_list_sum(nums):\u001b[0m\n\u001b[0m                               ^\u001b[0m\n\u001b[0;31mSyntaxError\u001b[0m\u001b[0;31m:\u001b[0m incomplete input\n"
     ]
    }
   ],
   "source": [
    "def max_sub_list_sum(nums):\n",
    "    # 这里为什么是一个 window就够了呢， 因为\n",
    "    i = j = 0 # i and j is the actual index\n",
    "    #\n",
    "    while j< len(nums):\n",
    "        "
   ]
  },
  {
   "cell_type": "code",
   "execution_count": null,
   "id": "12e79e69-fbd2-4c24-a7f5-cb412fbfaaf9",
   "metadata": {},
   "outputs": [],
   "source": [
    "s[j] is miximum sub continue list if end with index j\n",
    "s[j+1] = s[j]+s[j+1] if s[j+1]>=0 else 应该还是啊。。因为最后一个元素固定了。。。hmm\n",
    "\n",
    "这样没有跳转了。。。。。应该"
   ]
  },
  {
   "cell_type": "code",
   "execution_count": null,
   "id": "88000d0f-dd57-4b31-90fa-300bf809317a",
   "metadata": {},
   "outputs": [],
   "source": [
    "s[j] = max(s[j-1] + num[j], s[j-1] ) "
   ]
  },
  {
   "cell_type": "code",
   "execution_count": 41,
   "id": "9f45008a-7853-4a8d-9788-7bacd542777c",
   "metadata": {},
   "outputs": [
    {
     "data": {
      "text/plain": [
       "14"
      ]
     },
     "execution_count": 41,
     "metadata": {},
     "output_type": "execute_result"
    }
   ],
   "source": [
    "num = [1, 1, 2, 10]\n",
    "def max_sub_list_with_first_n_element(j):\n",
    "    if j==0: \n",
    "        return num[0]\n",
    "    return max(max_sub_list_with_first_n_element(j-1) + num[j], max_sub_list_with_first_n_element(j-1))\n",
    "max_sub_list_with_first_n_element(3)"
   ]
  },
  {
   "cell_type": "code",
   "execution_count": 28,
   "id": "8f238678-aa0b-4a22-8c53-15f2e58a1164",
   "metadata": {},
   "outputs": [
    {
     "data": {
      "text/plain": [
       "6"
      ]
     },
     "execution_count": 28,
     "metadata": {},
     "output_type": "execute_result"
    }
   ],
   "source": [
    "sum([4, -1, 2, 1])"
   ]
  },
  {
   "cell_type": "code",
   "execution_count": null,
   "id": "1d46be51-91f0-4df2-aba4-71b5754c6de1",
   "metadata": {},
   "outputs": [],
   "source": [
    "# 最长无重复子串 -的长度？\n",
    "'abcddef'"
   ]
  },
  {
   "cell_type": "code",
   "execution_count": null,
   "id": "888cfd0c-3816-4a80-9697-fb522d86265f",
   "metadata": {},
   "outputs": [],
   "source": [
    "def longest_(s):\n",
    "    \"\"\"\n",
    "    Solution 1: DP\n",
    "    define state: i -> all posstible sublist with initial i element\n",
    "    dp[i]: longest length within list set in state[i]\n",
    "\n",
    "    find the state transfer function\n",
    "    dp[i] -> with element i, or without element i. \n",
    "    if with element i, we don't know if dp[i-1] has element [i] or not. so we cannot say dp[i]= 1+ dp[i-1]. \n",
    "    or if with element i, we only know, there should be no element i in dp[i-1]. but still cannot write a dp function. \n",
    "    \n",
    "    Solution 2: DP another state definition\n",
    "    define state: i -> all possible 无重复 sublist end with element i\n",
    "    ok then\n",
    "    dp[i] could be with element i or not\n",
    "    dp[i] = dp[i-1] + 1, if element(i) not in initial i-1 element \n",
    "    or \n",
    "    dp[i] = ??, if element(i) in initial i-1 element\n",
    "    感觉写不下去了 - 不能写\n",
    "\n",
    "    Solution 3: sliding window i,j\n",
    "    思路是这样的： 对于任意一个window， 可行解， 无重复， 如果扩张右边的时候， 可能引起左边收缩（为了不重复）。 这样， search space严格减少了。\n",
    "    其实window本身就是定义了 上面solution2中的all possible 无重复 sublist end with element j.\n",
    "    \n",
    "    \"\"\""
   ]
  },
  {
   "cell_type": "code",
   "execution_count": 44,
   "id": "fc68823b-e481-431d-8503-dc44e8a13e53",
   "metadata": {},
   "outputs": [],
   "source": [
    "# 长度最小的子数组\n",
    "给定一个正整数数组 nums 和一个正整数 target，找到数组中满足以下条件的最短子数组：\n",
    "\n",
    "子数组的和 ≥target\n",
    "\n",
    "返回子数组的最短长度。如果不存在这样的子数组，则返回 0。"
   ]
  },
  {
   "cell_type": "code",
   "execution_count": null,
   "id": "c7e27fb4-3d84-4aed-85f6-22ac77b89e32",
   "metadata": {},
   "outputs": [],
   "source": [
    "def sublist_shortest(nums):\n",
    "    # solution 1: enumerate all possiblities -> n! -> too much -> this is the full search space\n",
    "    # solution 2: sub-problem redefine - > segement all enumerations!!!!\n",
    "    # a) subspace as : state i -> all enumerations with end emelent as nums[i], \n",
    "    # b) subspace as : state i -> all enumerations with initial i emelent\n",
    "    # The core is that there exist a state i that cover all space or, the union of all state i cover the full space\n",
    "    \"\"\"\n",
    "    Under a) dp[i] \n",
    "    \"\"\"\n",
    "    "
   ]
  },
  {
   "cell_type": "code",
   "execution_count": null,
   "id": "f1beb2d9-ba75-4caa-b6c2-9cfd49eeef3a",
   "metadata": {},
   "outputs": [],
   "source": [
    "# DFS"
   ]
  },
  {
   "cell_type": "code",
   "execution_count": null,
   "id": "f60643c4-c463-47f4-b2f5-7dfd8e7f7175",
   "metadata": {},
   "outputs": [],
   "source": [
    "岛屿的个数 (Number of Islands)\n",
    "题目链接：Number of Islands\n",
    "描述：给定一个二维的字符网格，其中 '1' 表示陆地，'0' 表示水域。岛屿是由连通的 '1' 组成的区域，连接方向可以是上下左右四个方向。你需要计算岛屿的数量。\n",
    "思路：遍历整个网格，每当遇到一个 '1'，就开始执行 DFS，将该岛屿上的所有 '1' 都标记为已访问，防止重复计数。"
   ]
  },
  {
   "cell_type": "code",
   "execution_count": null,
   "id": "244de952-4569-41bb-adc9-8d6ac7d1dc75",
   "metadata": {},
   "outputs": [],
   "source": [
    "def numIslands(grid):\n",
    "     \"\"\"\n",
    "     Start from island cell, Travsere all possible cell. If visited, then tag it to be 0. If finished, that is 1 island.\n",
    "     See how many we can have: 思路如下\n",
    "     \"\"\"\n",
    "    island = 0\n",
    "    for cell in grid: # cell location is (i,j)\n",
    "        if cell ==1:\n",
    "            traverse_from(cell) # use DFS, which is a recursive implementation\n",
    "            island += 1\n",
    "    return island            \n",
    "        "
   ]
  },
  {
   "cell_type": "code",
   "execution_count": null,
   "id": "10431041-85f1-4800-be3a-42439a620665",
   "metadata": {},
   "outputs": [],
   "source": [
    "迷宫问题 (Flood Fill)\n",
    "def floodFill(grid,i,j,color):\n",
    "    def DFS(i,j,target_color, repaced_color):\n",
    "        if i,j in out_of_boundary and grid[i,j] == target_color:\n",
    "            grid[i,j]=repaced_color\n",
    "            DFS(to_neighobor)\n",
    "            \n",
    "    if grid[i,j]!=color:\n",
    "        \n",
    "        DFS(i,j,target_color = grid[i,j], repaced_color =color)\n",
    "    "
   ]
  },
  {
   "cell_type": "code",
   "execution_count": 47,
   "id": "0f26bece-511e-4262-89a0-0f3d29ebc4e4",
   "metadata": {},
   "outputs": [],
   "source": [
    "# permutations"
   ]
  },
  {
   "cell_type": "code",
   "execution_count": null,
   "id": "3f8fdb69-e752-4a95-b597-9eb63ad744d5",
   "metadata": {},
   "outputs": [],
   "source": [
    "Permutations \n",
    "描述：给定一个没有重复数字的数组，返回所有可能的全排列\n",
    "\n",
    "这个题有点写法难度了\n",
    "\n",
    "这里的neighbor是没有visited number： 可以考虑传neighbor就好了\n",
    "这里的visited完了以后 需要保存path. 所以path也传递\n",
    "\n",
    "full_set = set(nums)\n",
    "permutations=[]\n",
    "\n",
    "df DSF(start_point, path, neighbor_set):\n",
    "    if neighbor_set=[]:\n",
    "        permutations.append(path)\n",
    "    \n",
    "    path = path+[start_point] # add it in path\n",
    "\n",
    "    for neighbor in  neighbor_set:\n",
    "        DSF(neighbor, path, neighbor_set.remove(neighbor) )\n",
    "        \n",
    "    \n",
    "\n",
    "    \n",
    "\n"
   ]
  },
  {
   "cell_type": "code",
   "execution_count": 67,
   "id": "b2336be2-7479-4114-b195-2af627c04657",
   "metadata": {},
   "outputs": [
    {
     "name": "stdout",
     "output_type": "stream",
     "text": [
      "[[1, 2], [1, 3], [2, 1], [2, 3], [3, 1], [3, 2]]\n"
     ]
    }
   ],
   "source": [
    "def permutation(nums):\n",
    "    \n",
    "    permutations=[]\n",
    "    \n",
    "    def DSF(start_point, path, neighbor_set):\n",
    "        if len(neighbor_set) ==0: # path is full\n",
    "            permutations.append(path)\n",
    "        \n",
    "        path = path+[start_point] # add it in path\n",
    "\n",
    "        for neighbor in  neighbor_set:\n",
    "            new_neighbor = neighbor_set.copy()\n",
    "            new_neighbor.remove(neighbor) \n",
    "            DSF(neighbor, path, new_neighbor )\n",
    "    for i in nums:\n",
    "        full_set = set(nums)\n",
    "        full_set.remove(i)\n",
    "        DSF(i,[], full_set)\n",
    "    print(permutations)\n",
    "permutation([1,2,3])           "
   ]
  },
  {
   "cell_type": "code",
   "execution_count": 56,
   "id": "54e1a01a-c319-4f20-a24d-f59d2baf0e26",
   "metadata": {},
   "outputs": [],
   "source": [
    "a = set([1,2,3])\n",
    "a.remove(1)"
   ]
  },
  {
   "cell_type": "code",
   "execution_count": 57,
   "id": "16e093f3-8512-4bee-be8a-4a728941da18",
   "metadata": {},
   "outputs": [
    {
     "data": {
      "text/plain": [
       "{2, 3}"
      ]
     },
     "execution_count": 57,
     "metadata": {},
     "output_type": "execute_result"
    }
   ],
   "source": [
    "a = [1,3]\n",
    "b = a+[2]\n"
   ]
  },
  {
   "cell_type": "code",
   "execution_count": 71,
   "id": "c0e22d4d-b1bd-4bde-b0ac-9406d3ddc4ee",
   "metadata": {},
   "outputs": [
    {
     "data": {
      "text/plain": [
       "'a'"
      ]
     },
     "execution_count": 71,
     "metadata": {},
     "output_type": "execute_result"
    }
   ],
   "source": [
    "# Word Search\n",
    "s='abd'\n",
    "s[0]"
   ]
  },
  {
   "cell_type": "code",
   "execution_count": null,
   "id": "54b874a1-459f-44f5-9eeb-05f0c3acd084",
   "metadata": {},
   "outputs": [],
   "source": [
    "# 这里错在哪里了"
   ]
  },
  {
   "cell_type": "code",
   "execution_count": 81,
   "id": "533a03ea-d5a1-440f-8d9a-9b97d370b4ca",
   "metadata": {},
   "outputs": [
    {
     "name": "stdout",
     "output_type": "stream",
     "text": [
      "0 0 ABCCED\n",
      "-1 0 BCCED\n",
      "1 0 BCCED\n",
      "0 -1 BCCED\n",
      "0 1 BCCED\n",
      "-1 1 CCED\n",
      "1 1 CCED\n",
      "0 0 CCED\n",
      "0 2 CCED\n",
      "-1 2 CED\n",
      "1 2 CED\n",
      "0 2 ED\n",
      "2 2 ED\n",
      "1 2 D\n",
      "3 2 D\n",
      "2 1 D\n",
      "1 1 \n",
      "3 1 \n",
      "2 0 \n",
      "2 2 \n",
      "2 3 D\n",
      "1 1 ED\n",
      "1 3 ED\n",
      "0 1 CED\n",
      "0 3 CED\n",
      "0 1 ABCCED\n",
      "0 2 ABCCED\n",
      "0 3 ABCCED\n",
      "1 0 ABCCED\n",
      "1 1 ABCCED\n",
      "1 2 ABCCED\n",
      "1 3 ABCCED\n",
      "2 0 ABCCED\n",
      "1 0 BCCED\n",
      "3 0 BCCED\n",
      "2 -1 BCCED\n",
      "2 1 BCCED\n",
      "2 1 ABCCED\n",
      "2 2 ABCCED\n",
      "2 3 ABCCED\n"
     ]
    },
    {
     "data": {
      "text/plain": [
       "(4, False)"
      ]
     },
     "execution_count": 81,
     "metadata": {},
     "output_type": "execute_result"
    }
   ],
   "source": [
    "def exist(board, word):\n",
    "    def dfs(i, j, word):\n",
    "        print(i,j,word)\n",
    "        \"return if word exist from start point i,j\"\n",
    "        if i>=len(board) or i<0 or j>=len(board[0]) or j<0:\n",
    "            return (1,False)\n",
    "        if word==\"\":\n",
    "            return True\n",
    "        if board[i][j]!=word[0]: return False\n",
    "        if board[i][j]==word[0]: \n",
    "            tmp = board[i][j]\n",
    "            board[i][j] = '/'\n",
    "            dfs(i-1,j,word[1:])\n",
    "            dfs(i+1,j,word[1:])\n",
    "            dfs(i,j-1,word[1:])\n",
    "            dfs(i,j+1,word[1:])\n",
    "            board[i][j] = tmp\n",
    "            \n",
    "        \n",
    "    if not word: return 2,False    \n",
    "    if not board: return 3,False\n",
    "    for i in range(len(board)):\n",
    "        for j in range(len(board[0])):\n",
    "            if dfs(i, j, word):\n",
    "                return True\n",
    "    return 4,False\n",
    "board = [\n",
    "  ['A', 'B', 'C', 'E'],\n",
    "  ['S', 'F', 'C', 'S'],\n",
    "  ['A', 'D', 'E', 'E']\n",
    "]\n",
    "word = \"ABCCED\"\n",
    "exist(board,word)"
   ]
  },
  {
   "cell_type": "code",
   "execution_count": 82,
   "id": "e1abec15-d9b5-4e9a-a1bc-765990b674d7",
   "metadata": {},
   "outputs": [
    {
     "name": "stdout",
     "output_type": "stream",
     "text": [
      "DFS called: i=0, j=0, word='ABCCED'\n",
      "DFS called: i=-1, j=0, word='BCCED'\n",
      "DFS called: i=1, j=0, word='BCCED'\n",
      "DFS called: i=0, j=-1, word='BCCED'\n",
      "DFS called: i=0, j=1, word='BCCED'\n",
      "DFS called: i=-1, j=1, word='CCED'\n",
      "DFS called: i=1, j=1, word='CCED'\n",
      "DFS called: i=0, j=0, word='CCED'\n",
      "DFS called: i=0, j=2, word='CCED'\n",
      "DFS called: i=-1, j=2, word='CED'\n",
      "DFS called: i=1, j=2, word='CED'\n",
      "DFS called: i=0, j=2, word='ED'\n",
      "DFS called: i=2, j=2, word='ED'\n",
      "DFS called: i=1, j=2, word='D'\n",
      "DFS called: i=3, j=2, word='D'\n",
      "DFS called: i=2, j=1, word='D'\n",
      "DFS called: i=1, j=1, word=''\n",
      "True\n"
     ]
    }
   ],
   "source": [
    "def exist(board, word):\n",
    "    def dfs(i, j, word):\n",
    "        # Print debug info\n",
    "        print(f\"DFS called: i={i}, j={j}, word='{word}'\")\n",
    "        \n",
    "        # Boundary and character checks\n",
    "        if i < 0 or i >= len(board) or j < 0 or j >= len(board[0]):\n",
    "            return False\n",
    "        if word == \"\":\n",
    "            return True\n",
    "        if board[i][j] != word[0]:\n",
    "            return False\n",
    "        \n",
    "        # Mark the cell as visited\n",
    "        tmp = board[i][j]\n",
    "        board[i][j] = '/'\n",
    "        \n",
    "        # Explore neighbors\n",
    "        result = (\n",
    "            dfs(i-1, j, word[1:]) or\n",
    "            dfs(i+1, j, word[1:]) or\n",
    "            dfs(i, j-1, word[1:]) or\n",
    "            dfs(i, j+1, word[1:])\n",
    "        )\n",
    "        \n",
    "        # Restore the cell\n",
    "        board[i][j] = tmp\n",
    "        \n",
    "        return result\n",
    "    \n",
    "    # Edge cases\n",
    "    if not word:\n",
    "        return False\n",
    "    if not board:\n",
    "        return False\n",
    "    \n",
    "    # Start from every cell\n",
    "    for i in range(len(board)):\n",
    "        for j in range(len(board[0])):\n",
    "            if dfs(i, j, word):\n",
    "                return True\n",
    "    \n",
    "    return False\n",
    "\n",
    "# Example usage\n",
    "board = [\n",
    "  ['A', 'B', 'C', 'E'],\n",
    "  ['S', 'F', 'C', 'S'],\n",
    "  ['A', 'D', 'E', 'E']\n",
    "]\n",
    "word = \"ABCCED\"\n",
    "print(exist(board, word))  # Output: True"
   ]
  },
  {
   "cell_type": "code",
   "execution_count": 83,
   "id": "6daf6604-2d28-4150-8468-8521863b2b25",
   "metadata": {},
   "outputs": [],
   "source": [
    "# 二叉树的层次遍历 (Binary Tree Level Order Traversal)\n",
    "# 从左到右\n",
    "这个是典型的BFS题。 \n",
    "然后作为BFS题， 最好就用list来做就好了 ->"
   ]
  },
  {
   "cell_type": "code",
   "execution_count": 99,
   "id": "f71713c9-0883-485f-a5a9-c579227c1d2a",
   "metadata": {},
   "outputs": [],
   "source": [
    "# Test Case 1: Normal Binary Treec\n",
    "class TreeNode:\n",
    "    def __init__(self, val):\n",
    "        self.val = val\n",
    "        self.left = None\n",
    "        self.right = None\n",
    "        \n",
    "root = TreeNode(3)\n",
    "root.left = TreeNode(9)\n",
    "root.right = TreeNode(20)\n",
    "root.right.left = TreeNode(15)\n",
    "root.right.right = TreeNode(7)\n",
    "# Expected output: [[3], [9, 20], [15, 7]]"
   ]
  },
  {
   "cell_type": "code",
   "execution_count": 101,
   "id": "a261e3ec-a610-4336-8ae1-72e8c8212f52",
   "metadata": {},
   "outputs": [
    {
     "name": "stdout",
     "output_type": "stream",
     "text": [
      "3\n",
      "9\n",
      "20\n",
      "15\n",
      "7\n"
     ]
    }
   ],
   "source": [
    "def BT(root):\n",
    "    queue = []\n",
    "    queue.append(root)\n",
    "    while queue:\n",
    "        l = queue.pop(0)\n",
    "        print(l.val)\n",
    "        if l.left:\n",
    "            queue.append(l.left)\n",
    "        if l.right:\n",
    "            queue.append(l.right)\n",
    "BT(root)\n",
    "        \n",
    "    "
   ]
  },
  {
   "cell_type": "code",
   "execution_count": 108,
   "id": "d4a6e5ed-cbad-4893-ac18-24f55584a2cc",
   "metadata": {},
   "outputs": [
    {
     "name": "stdout",
     "output_type": "stream",
     "text": [
      "3 1\n",
      "9 2\n",
      "20 2\n",
      "15 3\n",
      "7 3\n"
     ]
    }
   ],
   "source": [
    "def BT(root):\n",
    "    queue = []\n",
    "    queue.append((root,1))\n",
    "    while queue:\n",
    "        l, level = queue.pop(0)\n",
    "        print(l.val, level)\n",
    "        if l.left:\n",
    "            queue.append( (l.left, level+1))\n",
    "        if l.right:\n",
    "            queue.append((l.right, level+1))\n",
    "BT(root)"
   ]
  },
  {
   "cell_type": "code",
   "execution_count": 105,
   "id": "1b35fd1d-30e8-4a71-aa3c-294ae0c9922c",
   "metadata": {},
   "outputs": [
    {
     "data": {
      "text/plain": [
       "[(1, 2)]"
      ]
     },
     "execution_count": 105,
     "metadata": {},
     "output_type": "execute_result"
    }
   ],
   "source": [
    "a = []\n",
    "a.append(1,2))\n",
    "a"
   ]
  },
  {
   "cell_type": "code",
   "execution_count": 109,
   "id": "c80442d0-a31c-495b-8266-e2d1ba3966e9",
   "metadata": {},
   "outputs": [],
   "source": [
    "# 最短路径问题 (Shortest Path in Binary Matrix)"
   ]
  },
  {
   "cell_type": "code",
   "execution_count": 110,
   "id": "47334e8b-207f-4642-aebd-b738dff69af0",
   "metadata": {},
   "outputs": [
    {
     "ename": "SyntaxError",
     "evalue": "invalid syntax (1183724208.py, line 3)",
     "output_type": "error",
     "traceback": [
      "\u001b[0;36m  Cell \u001b[0;32mIn[110], line 3\u001b[0;36m\u001b[0m\n\u001b[0;31m    def BFS(0,0):\u001b[0m\n\u001b[0m            ^\u001b[0m\n\u001b[0;31mSyntaxError\u001b[0m\u001b[0;31m:\u001b[0m invalid syntax\n"
     ]
    }
   ],
   "source": [
    "def shortestPathBinaryMatrix(grid):\n",
    "    # 1. edge case\n",
    "    \n",
    "    # BFS implementation\n",
    "    queue = []\n",
    "    queue = [] # store location and path length\n",
    "    queue.append(((0,0), 0)) # state definition i,j, distance\n",
    "    grid[(0,0)]=1 # visited\n",
    "    direction\n",
    "    while queue:\n",
    "        i,j = queue.pop(0)\n",
    "        if ....\n",
    "            \n",
    "        \n",
    "    "
   ]
  },
  {
   "cell_type": "code",
   "execution_count": 111,
   "id": "e70f1eba-9440-47f3-bce6-33cde2592bfb",
   "metadata": {},
   "outputs": [
    {
     "data": {
      "text/plain": [
       "[-1, 1, 2]"
      ]
     },
     "execution_count": 111,
     "metadata": {},
     "output_type": "execute_result"
    }
   ],
   "source": [
    "l = [1,2,-1]\n",
    "sorted(l)"
   ]
  },
  {
   "cell_type": "code",
   "execution_count": 112,
   "id": "2ff5b03b-5291-4c58-acf6-85cee09d04c4",
   "metadata": {},
   "outputs": [],
   "source": [
    "#硬币找零问题 (Coin Change Problem)\n",
    "#问题描述\n",
    "#给定一个整数数组 coins，其中每个元素代表不同面值的硬币，以及一个整数 amount，求用这些硬币凑出金额 amount 的最少硬币数。如果无法凑出该金额，则返回 -1。"
   ]
  },
  {
   "cell_type": "code",
   "execution_count": null,
   "id": "febf0642-bfb4-4aae-b9ac-03c409eaddb9",
   "metadata": {},
   "outputs": [],
   "source": []
  }
 ],
 "metadata": {
  "kernelspec": {
   "display_name": "Python (myenv)",
   "language": "python",
   "name": "myenv"
  },
  "language_info": {
   "codemirror_mode": {
    "name": "ipython",
    "version": 3
   },
   "file_extension": ".py",
   "mimetype": "text/x-python",
   "name": "python",
   "nbconvert_exporter": "python",
   "pygments_lexer": "ipython3",
   "version": "3.11.4"
  }
 },
 "nbformat": 4,
 "nbformat_minor": 5
}

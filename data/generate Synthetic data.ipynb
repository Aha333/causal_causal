{
 "cells": [
  {
   "cell_type": "code",
   "execution_count": 40,
   "id": "1d165246-2297-4e78-a1b5-4f858a0289bb",
   "metadata": {},
   "outputs": [],
   "source": [
    "import numpy as np\n",
    "import pandas as pd\n",
    "import matplotlib.pyplot as plt\n",
    "from scipy.stats import lognorm\n"
   ]
  },
  {
   "cell_type": "markdown",
   "id": "a604d425-572a-4148-89d7-d0b6a28f1af8",
   "metadata": {},
   "source": [
    "# generate samples"
   ]
  },
  {
   "cell_type": "code",
   "execution_count": 106,
   "id": "2d52ac09-d024-4507-983c-42d4d93020a6",
   "metadata": {},
   "outputs": [
    {
     "name": "stdout",
     "output_type": "stream",
     "text": [
      "23.713607071959036 64.57858212394598\n",
      "25.27453304559599 68.83774314801202\n"
     ]
    }
   ],
   "source": [
    "def generate_log_normal_with_noise(coefficients, num_samples=10000):\n",
    "    np.random.seed(42)\n",
    "     \n",
    "    # Save this , as this is the core relationship. If there is treatment, we can assume it is this coefficient changed\n",
    "    # For any treatment, some of this would be positive, some of this could be negative. \n",
    "    features = np.random.rand(num_samples, 10) # User feature\n",
    "    # Compute the mean as a linear combination of the features\n",
    "    mean = np.dot(features, coefficients)\n",
    "    y = np.random.lognormal(mean=np.log(mean), sigma=1.5)\n",
    "    print(y.mean(), y.std())\n",
    "    # Generate 30 random features as noise\n",
    "    noise = np.random.rand(num_samples, 30)\n",
    "\n",
    "    # Create a DataFrame\n",
    "    column_names = [f'feature_{i+1}' for i in range(10)] + [f'noise_{i+1}' for i in range(30)] + ['y']\n",
    "    data = np.hstack((features, noise, y.reshape(-1, 1)))  # Combine all data\n",
    "    df = pd.DataFrame(data, columns=column_names)\n",
    "\n",
    "    return df\n",
    "\n",
    "# Example usage\n",
    "np.random.seed(42)\n",
    "COEFFICIENT = np.random.rand(10)+1\n",
    "TREATMENT_EFFECT_ON_COEF = 0.1\n",
    "df_control = generate_log_normal_with_noise(COEFFICIENT)\n",
    "df_treatment = generate_log_normal_with_noise(COEFFICIENT+TREATMENT_EFFECT_ON_COEF)\n",
    "df_control['t'] = 0\n",
    "df_treatment['t'] = 1\n",
    "df_raw = pd.concat([df_control,df_treatment])\n",
    "#print(df.head())"
   ]
  },
  {
   "cell_type": "code",
   "execution_count": 107,
   "id": "49b01ce8-7e7f-41f5-83a2-ec839e0a3c34",
   "metadata": {},
   "outputs": [
    {
     "data": {
      "text/plain": [
       "t\n",
       "0    23.713607\n",
       "1    25.274533\n",
       "Name: y, dtype: float64"
      ]
     },
     "execution_count": 107,
     "metadata": {},
     "output_type": "execute_result"
    }
   ],
   "source": [
    "df_raw.groupby('t')['y'].mean()"
   ]
  },
  {
   "cell_type": "code",
   "execution_count": 108,
   "id": "78cad7c9-4dd8-4f7a-92f1-448d1ffa0b2a",
   "metadata": {},
   "outputs": [
    {
     "data": {
      "text/plain": [
       "(1.065783399123456, 1.5426089999999988)"
      ]
     },
     "execution_count": 108,
     "metadata": {},
     "output_type": "execute_result"
    }
   ],
   "source": [
    "24.992431/23.449822,24.992431 - 23.449822"
   ]
  },
  {
   "cell_type": "markdown",
   "id": "c2bf6b49-cfed-4ad9-a371-fde60c9c7c42",
   "metadata": {},
   "source": [
    "# T-test vs. bootstrap"
   ]
  },
  {
   "cell_type": "code",
   "execution_count": 112,
   "id": "3c0ad2fa-a772-4c37-92f4-5fd3adc2da3f",
   "metadata": {},
   "outputs": [],
   "source": [
    "import pandas as pd\n",
    "from scipy import stats\n",
    "\n",
    "# Sample DataFrame\n",
    "def t_test(df):\n",
    "    # Separate the groups\n",
    "    control_group = df[df['t'] == 0]['y']\n",
    "    treatment_group = df[df['t'] == 1]['y']\n",
    "    \n",
    "        # Calculate means\n",
    "    mean_control = control_group.mean()\n",
    "    mean_treatment = treatment_group.mean()\n",
    "    \n",
    "    # Calculate the mean difference\n",
    "    mean_diff = mean_treatment - mean_control\n",
    "    \n",
    "    # Calculate standard errors\n",
    "    se_control = control_group.std(ddof=1) / (len(control_group) ** 0.5)  # Standard error for control\n",
    "    se_treatment = treatment_group.std(ddof=1) / (len(treatment_group) ** 0.5)  # Standard error for treatment\n",
    "    \n",
    "    # Calculate the standard error of the mean difference\n",
    "    se_diff = (se_control**2 + se_treatment**2) ** 0.5\n",
    "    \n",
    "    # Calculate the degrees of freedom\n",
    "    df = len(control_group) + len(treatment_group) - 2\n",
    "    \n",
    "    # Determine the critical t-value for 95% confidence interval\n",
    "    alpha = 0.05\n",
    "    t_critical = stats.t.ppf(1 - alpha/2, df)\n",
    "    \n",
    "    # Compute the confidence interval for the mean difference\n",
    "    ci_lower = mean_diff - t_critical * se_diff\n",
    "    ci_upper = mean_diff + t_critical * se_diff\n",
    "    \n",
    "    # Perform the t-test\n",
    "    t_stat, p_value = stats.ttest_ind(control_group, treatment_group)\n",
    "    \n",
    "    # Output the results\n",
    "    print(f'Mean Difference: {mean_diff}')\n",
    "    print(f'95% Confidence Interval for Mean Difference: ({ci_lower}, {ci_upper})')\n",
    "    print(f'T-statistic: {t_stat}, P-value: {p_value}')\n",
    "    \n",
    "    # Interpret the results\n",
    "    if p_value < alpha:\n",
    "        print(\"Reject the null hypothesis: There is a significant difference between the two groups.\")\n",
    "    else:\n",
    "        print(\"Fail to reject the null hypothesis: No significant difference between the two groups.\")"
   ]
  },
  {
   "cell_type": "code",
   "execution_count": 113,
   "id": "13b619e7-3b21-4389-a036-ebde87260dc4",
   "metadata": {},
   "outputs": [
    {
     "name": "stdout",
     "output_type": "stream",
     "text": [
      "Mean Difference: 1.5609259736369552\n",
      "95% Confidence Interval for Mean Difference: (-0.2892424239617504, 3.4110943712356607)\n",
      "T-statistic: -1.653656970551974, P-value: 0.09821292554761378\n",
      "Fail to reject the null hypothesis: No significant difference between the two groups.\n"
     ]
    }
   ],
   "source": [
    "t_test(df_raw[['t','y']])"
   ]
  },
  {
   "cell_type": "code",
   "execution_count": 114,
   "id": "1dc512ce-a629-4d37-a3e3-59988e0f6b27",
   "metadata": {},
   "outputs": [
    {
     "name": "stdout",
     "output_type": "stream",
     "text": [
      "95% Confidence Interval for Mean Difference: (-0.2143743617836951, 3.3430522214711047)\n"
     ]
    }
   ],
   "source": [
    "def stratified_bootstrap(data, n_iterations=1000):\n",
    "    means = []\n",
    "    for _ in range(n_iterations):\n",
    "        # Sample within each stratum\n",
    "        control_sample = data[data['t'] == 0]['y'].sample(frac=1, replace=True)\n",
    "        treatment_sample = data[data['t'] == 1]['y'].sample(frac=1, replace=True)\n",
    "        # Calculate mean difference\n",
    "        mean_diff = treatment_sample.mean() - control_sample.mean()\n",
    "        means.append(mean_diff)\n",
    "    return np.array(means)\n",
    "\n",
    "# Perform stratified bootstrap\n",
    "bootstrap_means = stratified_bootstrap(df_raw)\n",
    "\n",
    "# Calculate confidence intervals\n",
    "ci_lower = np.percentile(bootstrap_means, 2.5)\n",
    "ci_upper = np.percentile(bootstrap_means, 97.5)\n",
    "\n",
    "print(f'95% Confidence Interval for Mean Difference: ({ci_lower}, {ci_upper})')"
   ]
  },
  {
   "cell_type": "code",
   "execution_count": 117,
   "id": "99765bd8-6eee-431e-b5cc-fbff89103794",
   "metadata": {},
   "outputs": [
    {
     "name": "stdout",
     "output_type": "stream",
     "text": [
      "95% Confidence Interval for Mean Difference: (-0.3638831290383325, 3.482796708909251)\n"
     ]
    }
   ],
   "source": [
    "def stratified_bootstrap(data, features, n_iterations=1000):\n",
    "    means = []\n",
    "    \n",
    "    # Create quantiles for each feature and store the quantile columns\n",
    "    quantile_columns = []\n",
    "    for feature in features:\n",
    "        quantile_col_name = f\"{feature}_quantile\"\n",
    "        data[quantile_col_name] = pd.qcut(data[feature], q=4, labels=False)  # Create quartiles\n",
    "        quantile_columns.append(quantile_col_name)\n",
    "\n",
    "    for _ in range(n_iterations):\n",
    "        # Sample within each quantile stratum\n",
    "        strata = data.groupby(['t'] + quantile_columns)\n",
    "        control_samples = []\n",
    "        treatment_samples = []\n",
    "        \n",
    "        for name, group in strata:\n",
    "            control_samples.append(group[group['t'] == 0]['y'].sample(frac=1, replace=True))\n",
    "            treatment_samples.append(group[group['t'] == 1]['y'].sample(frac=1, replace=True))\n",
    "        \n",
    "        # Concatenate all samples from each stratum\n",
    "        control_sample = pd.concat(control_samples)\n",
    "        treatment_sample = pd.concat(treatment_samples)\n",
    "        \n",
    "        # Calculate mean difference\n",
    "        mean_diff = treatment_sample.mean() - control_sample.mean()\n",
    "        means.append(mean_diff)\n",
    "\n",
    "    return np.array(means)\n",
    "\n",
    "# Specify features to include in the stratification\n",
    "features = ['feature_1', 'feature_2', 'feature_3']  # Add features up to feature_10 as needed\n",
    "\n",
    "# Perform stratified bootstrap\n",
    "bootstrap_means = stratified_bootstrap(df_raw, features)\n",
    "\n",
    "# Calculate confidence intervals\n",
    "ci_lower = np.percentile(bootstrap_means, 2.5)\n",
    "ci_upper = np.percentile(bootstrap_means, 97.5)\n",
    "\n",
    "print(f'95% Confidence Interval for Mean Difference: ({ci_lower}, {ci_upper})')"
   ]
  },
  {
   "cell_type": "code",
   "execution_count": 119,
   "id": "0adbda22-47bc-43bc-aebd-3202f81d24a8",
   "metadata": {},
   "outputs": [
    {
     "name": "stdout",
     "output_type": "stream",
     "text": [
      "95% Confidence Interval for Mean Difference: (-0.24158057057094603, 3.371164904970394)\n"
     ]
    }
   ],
   "source": [
    "# faster version?\n",
    "def stratified_bootstrap(data, features, n_iterations=1000):\n",
    "    means = np.zeros(n_iterations)  # Preallocate space for means\n",
    "    \n",
    "    # Create quantiles for each feature and store the quantile columns\n",
    "    for feature in features:\n",
    "        quantile_col_name = f\"{feature}_quantile\"\n",
    "        data[quantile_col_name] = pd.qcut(data[feature], q=4, labels=False)\n",
    "\n",
    "    # Group data by treatment and quantile columns\n",
    "    strata = data.groupby(['t'] + [f\"{feature}_quantile\" for feature in features])\n",
    "    \n",
    "    for i in range(n_iterations):\n",
    "        treatment_samples = []\n",
    "        control_samples = []\n",
    "        \n",
    "        # Sample within each stratum\n",
    "        for name, group in strata:\n",
    "            sample_size = len(group)\n",
    "            if group['t'].iloc[0] == 1:  # Treatment group\n",
    "                treatment_samples.append(group['y'].sample(sample_size, replace=True))\n",
    "            else:  # Control group\n",
    "                control_samples.append(group['y'].sample(sample_size, replace=True))\n",
    "        \n",
    "        # Concatenate samples and calculate mean difference\n",
    "        if treatment_samples and control_samples:\n",
    "            treatment_sample = np.concatenate(treatment_samples)\n",
    "            control_sample = np.concatenate(control_samples)\n",
    "            means[i] = treatment_sample.mean() - control_sample.mean()\n",
    "\n",
    "    return means\n",
    "\n",
    "# Specify features to include in the stratification\n",
    "features = ['feature_1', 'feature_2', 'feature_3']  # Add features up to feature_10 as needed\n",
    "\n",
    "# Perform stratified bootstrap\n",
    "bootstrap_means = stratified_bootstrap(df_raw, features)\n",
    "\n",
    "# Calculate confidence intervals\n",
    "ci_lower = np.percentile(bootstrap_means, 2.5)\n",
    "ci_upper = np.percentile(bootstrap_means, 97.5)\n",
    "\n",
    "print(f'95% Confidence Interval for Mean Difference: ({ci_lower}, {ci_upper})')"
   ]
  },
  {
   "cell_type": "code",
   "execution_count": null,
   "id": "97937224-a22d-4366-aa8b-1a818d1c7081",
   "metadata": {},
   "outputs": [],
   "source": [
    "# use other method"
   ]
  }
 ],
 "metadata": {
  "kernelspec": {
   "display_name": "Python (myenv)",
   "language": "python",
   "name": "myenv"
  },
  "language_info": {
   "codemirror_mode": {
    "name": "ipython",
    "version": 3
   },
   "file_extension": ".py",
   "mimetype": "text/x-python",
   "name": "python",
   "nbconvert_exporter": "python",
   "pygments_lexer": "ipython3",
   "version": "3.11.4"
  }
 },
 "nbformat": 4,
 "nbformat_minor": 5
}
